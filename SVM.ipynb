{
 "cells": [
  {
   "cell_type": "code",
   "execution_count": 12,
   "metadata": {},
   "outputs": [
    {
     "data": {
      "text/plain": [
       "array([1.])"
      ]
     },
     "execution_count": 12,
     "metadata": {},
     "output_type": "execute_result"
    }
   ],
   "source": [
    "# SVM CLASSIFIER\n",
    "\n",
    "import numpy as np\n",
    "from sklearn import datasets\n",
    "from sklearn.pipeline import Pipeline\n",
    "from sklearn.preprocessing import StandardScaler\n",
    "from sklearn.svm import LinearSVC\n",
    "\n",
    "iris=datasets.load_iris()\n",
    "\n",
    "X=iris[\"data\"][:,(2,3)]\n",
    "y=(iris[\"target\"]==2).astype(np.float64)\n",
    "\n",
    "svm_clf=Pipeline(((\"scaler\",StandardScaler()),(\"linear_svc\",LinearSVC(C=1,loss=\"hinge\")),))\n",
    "\n",
    "svm_clf.fit(X,y)\n",
    "svm_clf.predict([[5.5,1.7]])"
   ]
  },
  {
   "cell_type": "code",
   "execution_count": 19,
   "metadata": {},
   "outputs": [
    {
     "data": {
      "text/plain": [
       "array([1.])"
      ]
     },
     "execution_count": 19,
     "metadata": {},
     "output_type": "execute_result"
    }
   ],
   "source": [
    "from sklearn.preprocessing import PolynomialFeatures\n",
    "# adding polynomial features for easier linear seperation\n",
    "polynomial_svm_clf=Pipeline((\n",
    "                    (\"poly_features\",PolynomialFeatures(degree=3)),\n",
    "                    (\"scaler\",StandardScaler()),\n",
    "                    (\"svm_clf\",LinearSVC(C=10,loss=\"hinge\"))))\n",
    "\n",
    "polynomial_svm_clf.fit(X,y)\n",
    "polynomial_svm_clf.predict([[5.5,1.7]])"
   ]
  },
  {
   "cell_type": "code",
   "execution_count": 21,
   "metadata": {},
   "outputs": [
    {
     "data": {
      "text/plain": [
       "array([1.])"
      ]
     },
     "execution_count": 21,
     "metadata": {},
     "output_type": "execute_result"
    }
   ],
   "source": [
    "from sklearn.svm import SVC\n",
    "# kernel is used to implement poly features without actually adding features\n",
    "poly_kernel_svc_clf=Pipeline((\n",
    "                            (\"scaler\",StandardScaler()),\n",
    "                            (\"svm_clf\",SVC(kernel=\"poly\",degree=3,coef0=1,C=5))\n",
    "                    ))\n",
    "poly_kernel_svc_clf.fit(X,y)\n",
    "poly_kernel_svc_clf.predict([[5.5,1.7]])"
   ]
  },
  {
   "cell_type": "code",
   "execution_count": 24,
   "metadata": {},
   "outputs": [
    {
     "data": {
      "text/plain": [
       "array([0.])"
      ]
     },
     "execution_count": 24,
     "metadata": {},
     "output_type": "execute_result"
    }
   ],
   "source": [
    "# Guassian RBF kernel -- similar to polynomial for adding higher dimensional features which makes the data easier for linear seperation\n",
    "# x= e^ ( gamma * (landmark)^2 )\n",
    "\n",
    "rbf_kernel_svm_clf=Pipeline((\n",
    "                            (\"scaler\",StandardScaler()),\n",
    "                            (\"svm_clf\",SVC(kernel=\"rbf\",gamma=5,C=0.001))\n",
    "))\n",
    "\n",
    "\n",
    "rbf_kernel_svm_clf.fit(X,y)\n",
    "rbf_kernel_svm_clf.predict([[5.5,1.7]])# predicts wrong"
   ]
  },
  {
   "cell_type": "code",
   "execution_count": 34,
   "metadata": {},
   "outputs": [
    {
     "data": {
      "text/plain": [
       "LinearSVR(C=1.0, dual=True, epsilon=1.5, fit_intercept=True,\n",
       "          intercept_scaling=1.0, loss='epsilon_insensitive', max_iter=1000,\n",
       "          random_state=None, tol=0.0001, verbose=0)"
      ]
     },
     "execution_count": 34,
     "metadata": {},
     "output_type": "execute_result"
    }
   ],
   "source": [
    "# SVM REGRESSOR\n",
    "\n",
    "from sklearn.svm import LinearSVR\n",
    "\n",
    "svm_reg=LinearSVR(epsilon=1.5)\n",
    "svm_reg.fit(X,y)"
   ]
  },
  {
   "cell_type": "code",
   "execution_count": 36,
   "metadata": {},
   "outputs": [
    {
     "name": "stderr",
     "output_type": "stream",
     "text": [
      "c:\\users\\sai\\appdata\\local\\programs\\python\\python37\\lib\\site-packages\\sklearn\\svm\\base.py:193: FutureWarning: The default value of gamma will change from 'auto' to 'scale' in version 0.22 to account better for unscaled features. Set gamma explicitly to 'auto' or 'scale' to avoid this warning.\n",
      "  \"avoid this warning.\", FutureWarning)\n"
     ]
    },
    {
     "data": {
      "text/plain": [
       "SVR(C=100, cache_size=200, coef0=0.0, degree=2, epsilon=0.1,\n",
       "    gamma='auto_deprecated', kernel='poly', max_iter=-1, shrinking=True,\n",
       "    tol=0.001, verbose=False)"
      ]
     },
     "execution_count": 36,
     "metadata": {},
     "output_type": "execute_result"
    }
   ],
   "source": [
    "from sklearn.svm import SVR\n",
    "\n",
    "svm_poly_reg=SVR(kernel=\"poly\",degree=2,C=100,epsilon=0.1)\n",
    "svm_poly_reg.fit(X,y)"
   ]
  },
  {
   "cell_type": "code",
   "execution_count": null,
   "metadata": {},
   "outputs": [],
   "source": []
  }
 ],
 "metadata": {
  "kernelspec": {
   "display_name": "Python 3",
   "language": "python",
   "name": "python3"
  },
  "language_info": {
   "codemirror_mode": {
    "name": "ipython",
    "version": 3
   },
   "file_extension": ".py",
   "mimetype": "text/x-python",
   "name": "python",
   "nbconvert_exporter": "python",
   "pygments_lexer": "ipython3",
   "version": "3.7.3"
  }
 },
 "nbformat": 4,
 "nbformat_minor": 2
}
